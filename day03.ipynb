{
 "cells": [
  {
   "cell_type": "markdown",
   "metadata": {},
   "source": [
    "## Gameplan\n",
    "* mark out all of the coordinates that each wire has traveled in a set\n",
    "* take the intersection of the sets\n",
    "* calculate the manhatten distance from each coordinate to the origin."
   ]
  },
  {
   "cell_type": "code",
   "execution_count": null,
   "metadata": {},
   "outputs": [],
   "source": [
    "def parse(puzzle_input):\n",
    "    wires = puzzle_input.strip().split('\\n')\n",
    "    wire_corners = []\n",
    "    for wire in wires:\n",
    "        wire_corners.append([(x[0], int(x[1:])) for x in wire.split(',')])\n",
    "    return wire_corners\n",
    "\n",
    "def get_points(A):\n",
    "    visited = set()\n",
    "    step_counter = {}\n",
    "    DX = {'D': 0, 'U': 0, 'R': 1, 'L': -1}\n",
    "    DY = {'D': -1, 'U': 1, 'R': 0, 'L': 0}\n",
    "    x, y, step_count = 0, 0, 0\n",
    "    for direction, distance in A:\n",
    "        for _ in range(distance):\n",
    "            step_count += 1\n",
    "            x += DX[direction]\n",
    "            y += DY[direction]\n",
    "            visited.add((x, y))\n",
    "            step_counter[(x, y)] = step_count\n",
    "    return visited, step_counter\n",
    "\n",
    "def intersections(A, B):\n",
    "    return get_points(A)[0].intersection(get_points(B)[0])\n",
    "\n",
    "def min_dist_intersection(A, B):\n",
    "    return min([abs(x) + abs(y) for x, y in intersections(A, B)])"
   ]
  },
  {
   "cell_type": "code",
   "execution_count": null,
   "metadata": {},
   "outputs": [],
   "source": [
    "TEST = '''R75,D30,R83,U83,L12,D49,R71,U7,L72\n",
    "U62,R66,U55,R34,D71,R55,D58,R83'''\n",
    "\n",
    "A, B = parse(TEST)\n",
    "assert min_dist_intersection(A, B) == 159"
   ]
  },
  {
   "cell_type": "code",
   "execution_count": null,
   "metadata": {},
   "outputs": [],
   "source": [
    "with open('data/day03_input.txt') as f:\n",
    "    A, B = parse(f.read())\n",
    "    \n",
    "min_dist_intersection(A, B)"
   ]
  },
  {
   "cell_type": "code",
   "execution_count": null,
   "metadata": {},
   "outputs": [],
   "source": [
    "def min_step_intersection(A, B):\n",
    "    return sorted([(get_points(A)[1][coords] + get_points(B)[1][coords], coords )for coords in intersections(A, B)], key=lambda x: x[0])[0][0]"
   ]
  },
  {
   "cell_type": "code",
   "execution_count": null,
   "metadata": {},
   "outputs": [],
   "source": [
    "TEST2 = '''R98,U47,R26,D63,R33,U87,L62,D20,R33,U53,R51\n",
    "U98,R91,D20,R16,D67,R40,U7,R15,U6,R7'''\n",
    "\n",
    "assert answers(*parse(TEST2)) == 410"
   ]
  },
  {
   "cell_type": "code",
   "execution_count": null,
   "metadata": {},
   "outputs": [],
   "source": [
    "min_step_intersection(A, B)"
   ]
  }
 ],
 "metadata": {
  "kernelspec": {
   "display_name": "py36",
   "language": "python",
   "name": "py36"
  },
  "language_info": {
   "codemirror_mode": {
    "name": "ipython",
    "version": 3
   },
   "file_extension": ".py",
   "mimetype": "text/x-python",
   "name": "python",
   "nbconvert_exporter": "python",
   "pygments_lexer": "ipython3",
   "version": "3.6.8"
  }
 },
 "nbformat": 4,
 "nbformat_minor": 2
}
